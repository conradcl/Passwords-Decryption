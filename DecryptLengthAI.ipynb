{
 "cells": [
  {
   "cell_type": "markdown",
   "metadata": {},
   "source": [
    "# Imports"
   ]
  },
  {
   "cell_type": "code",
   "execution_count": 1,
   "metadata": {},
   "outputs": [],
   "source": [
    "import pandas as pd\n",
    "import numpy as np\n",
    "import tensorflow as tf\n",
    "from sklearn.model_selection import train_test_split\n",
    "import gc"
   ]
  },
  {
   "cell_type": "markdown",
   "metadata": {},
   "source": [
    "# Cleaning Data"
   ]
  },
  {
   "cell_type": "code",
   "execution_count": 2,
   "metadata": {},
   "outputs": [],
   "source": [
    "file_path = r'C:\\Users\\KrayZ\\Documents\\CMPSC.codes\\Password 3\\Password 3\\output2.txt'\n",
    "\n",
    "with open(file_path, 'r') as file:\n",
    "    lines = file.readlines()\n",
    "\n",
    "data = [line.strip().split(maxsplit=2) for line in lines]\n",
    "encrypted_data_df = pd.DataFrame(data, columns=['PlainText', 'SHA256', 'RSA'])"
   ]
  },
  {
   "cell_type": "code",
   "execution_count": 3,
   "metadata": {},
   "outputs": [],
   "source": [
    "def split_col(text):\n",
    "    \n",
    "    part_length = len(text) // 10\n",
    "    pieces = [text[i*part_length:(i+1)*part_length] for i in range(9)]\n",
    "    pieces.append(text[9*part_length:])\n",
    "    \n",
    "    return pieces"
   ]
  },
  {
   "cell_type": "markdown",
   "metadata": {},
   "source": [
    "## SHA256 Data"
   ]
  },
  {
   "cell_type": "code",
   "execution_count": 4,
   "metadata": {},
   "outputs": [],
   "source": [
    "split_column_names = ['part1', 'part2', 'part3', 'part4', 'part5', 'part6', 'part7', 'part8', 'part9', 'part10']"
   ]
  },
  {
   "cell_type": "code",
   "execution_count": 102,
   "metadata": {},
   "outputs": [],
   "source": [
    "split_sha256_cols = encrypted_data_df['SHA256'].apply(split_col)\n",
    "sha256_df = pd.DataFrame(split_sha256_cols.tolist(), index=encrypted_data_df.index, columns = split_column_names)\n",
    "\n",
    "sha256_df['Length'] = encrypted_data_df[\"PlainText\"].apply(len)"
   ]
  },
  {
   "cell_type": "code",
   "execution_count": 6,
   "metadata": {},
   "outputs": [
    {
     "data": {
      "text/html": [
       "<div>\n",
       "<style scoped>\n",
       "    .dataframe tbody tr th:only-of-type {\n",
       "        vertical-align: middle;\n",
       "    }\n",
       "\n",
       "    .dataframe tbody tr th {\n",
       "        vertical-align: top;\n",
       "    }\n",
       "\n",
       "    .dataframe thead th {\n",
       "        text-align: right;\n",
       "    }\n",
       "</style>\n",
       "<table border=\"1\" class=\"dataframe\">\n",
       "  <thead>\n",
       "    <tr style=\"text-align: right;\">\n",
       "      <th></th>\n",
       "      <th>part1</th>\n",
       "      <th>part2</th>\n",
       "      <th>part3</th>\n",
       "      <th>part4</th>\n",
       "      <th>part5</th>\n",
       "      <th>part6</th>\n",
       "      <th>part7</th>\n",
       "      <th>part8</th>\n",
       "      <th>part9</th>\n",
       "      <th>part10</th>\n",
       "      <th>Length</th>\n",
       "    </tr>\n",
       "  </thead>\n",
       "  <tbody>\n",
       "    <tr>\n",
       "      <th>43</th>\n",
       "      <td>de5a6f</td>\n",
       "      <td>78116e</td>\n",
       "      <td>ca62d7</td>\n",
       "      <td>fc5ce1</td>\n",
       "      <td>59d23a</td>\n",
       "      <td>e6b889</td>\n",
       "      <td>b365a1</td>\n",
       "      <td>739ad2</td>\n",
       "      <td>cf36f9</td>\n",
       "      <td>25a140d0cc</td>\n",
       "      <td>1</td>\n",
       "    </tr>\n",
       "    <tr>\n",
       "      <th>44</th>\n",
       "      <td>50e721</td>\n",
       "      <td>e49c01</td>\n",
       "      <td>3f00c6</td>\n",
       "      <td>2cf59f</td>\n",
       "      <td>216354</td>\n",
       "      <td>2a9d8d</td>\n",
       "      <td>f02464</td>\n",
       "      <td>efeb61</td>\n",
       "      <td>5d3105</td>\n",
       "      <td>1b0fddc326</td>\n",
       "      <td>1</td>\n",
       "    </tr>\n",
       "    <tr>\n",
       "      <th>45</th>\n",
       "      <td>fcb5f4</td>\n",
       "      <td>0df9be</td>\n",
       "      <td>6bae66</td>\n",
       "      <td>c1d77a</td>\n",
       "      <td>6c1596</td>\n",
       "      <td>8866a9</td>\n",
       "      <td>e6cbd7</td>\n",
       "      <td>314ca4</td>\n",
       "      <td>32b019</td>\n",
       "      <td>d17392f6f4</td>\n",
       "      <td>1</td>\n",
       "    </tr>\n",
       "    <tr>\n",
       "      <th>46</th>\n",
       "      <td>2d7116</td>\n",
       "      <td>42b726</td>\n",
       "      <td>b04401</td>\n",
       "      <td>627ca9</td>\n",
       "      <td>fbac32</td>\n",
       "      <td>f5c853</td>\n",
       "      <td>0fb190</td>\n",
       "      <td>3cc4db</td>\n",
       "      <td>022587</td>\n",
       "      <td>17921a4881</td>\n",
       "      <td>1</td>\n",
       "    </tr>\n",
       "    <tr>\n",
       "      <th>47</th>\n",
       "      <td>4b68ab</td>\n",
       "      <td>3847fe</td>\n",
       "      <td>da7d6c</td>\n",
       "      <td>62c1fb</td>\n",
       "      <td>cbeebf</td>\n",
       "      <td>a35eab</td>\n",
       "      <td>7351ed</td>\n",
       "      <td>5e78f4</td>\n",
       "      <td>ddadea</td>\n",
       "      <td>5df64b8015</td>\n",
       "      <td>1</td>\n",
       "    </tr>\n",
       "    <tr>\n",
       "      <th>48</th>\n",
       "      <td>a1fce4</td>\n",
       "      <td>363854</td>\n",
       "      <td>ff888c</td>\n",
       "      <td>ff4b8e</td>\n",
       "      <td>7875d6</td>\n",
       "      <td>00c268</td>\n",
       "      <td>239041</td>\n",
       "      <td>2a8cf7</td>\n",
       "      <td>9b37d0</td>\n",
       "      <td>b11148b0fa</td>\n",
       "      <td>1</td>\n",
       "    </tr>\n",
       "    <tr>\n",
       "      <th>49</th>\n",
       "      <td>18f538</td>\n",
       "      <td>4d58bc</td>\n",
       "      <td>b1bba0</td>\n",
       "      <td>bcd9e6</td>\n",
       "      <td>a6781d</td>\n",
       "      <td>1a6ac2</td>\n",
       "      <td>cc280c</td>\n",
       "      <td>330ecb</td>\n",
       "      <td>ab6cb7</td>\n",
       "      <td>931b721552</td>\n",
       "      <td>1</td>\n",
       "    </tr>\n",
       "    <tr>\n",
       "      <th>50</th>\n",
       "      <td>594e51</td>\n",
       "      <td>9ae499</td>\n",
       "      <td>312b29</td>\n",
       "      <td>433b7d</td>\n",
       "      <td>d8a97f</td>\n",
       "      <td>f068de</td>\n",
       "      <td>fcba97</td>\n",
       "      <td>55b6d5</td>\n",
       "      <td>d00e84</td>\n",
       "      <td>c524d67b06</td>\n",
       "      <td>1</td>\n",
       "    </tr>\n",
       "    <tr>\n",
       "      <th>51</th>\n",
       "      <td>bbeebd</td>\n",
       "      <td>879e1d</td>\n",
       "      <td>ff6918</td>\n",
       "      <td>546dc0</td>\n",
       "      <td>c179fd</td>\n",
       "      <td>de505f</td>\n",
       "      <td>2a2159</td>\n",
       "      <td>1c9a9c</td>\n",
       "      <td>96e36b</td>\n",
       "      <td>054ec5af83</td>\n",
       "      <td>1</td>\n",
       "    </tr>\n",
       "    <tr>\n",
       "      <th>52</th>\n",
       "      <td>961b6d</td>\n",
       "      <td>d3ede3</td>\n",
       "      <td>cb8ecb</td>\n",
       "      <td>aacbd6</td>\n",
       "      <td>8de040</td>\n",
       "      <td>cd78eb</td>\n",
       "      <td>2ed588</td>\n",
       "      <td>9130cc</td>\n",
       "      <td>eb4c49</td>\n",
       "      <td>268ea4d506</td>\n",
       "      <td>2</td>\n",
       "    </tr>\n",
       "  </tbody>\n",
       "</table>\n",
       "</div>"
      ],
      "text/plain": [
       "     part1   part2   part3   part4   part5   part6   part7   part8   part9  \\\n",
       "43  de5a6f  78116e  ca62d7  fc5ce1  59d23a  e6b889  b365a1  739ad2  cf36f9   \n",
       "44  50e721  e49c01  3f00c6  2cf59f  216354  2a9d8d  f02464  efeb61  5d3105   \n",
       "45  fcb5f4  0df9be  6bae66  c1d77a  6c1596  8866a9  e6cbd7  314ca4  32b019   \n",
       "46  2d7116  42b726  b04401  627ca9  fbac32  f5c853  0fb190  3cc4db  022587   \n",
       "47  4b68ab  3847fe  da7d6c  62c1fb  cbeebf  a35eab  7351ed  5e78f4  ddadea   \n",
       "48  a1fce4  363854  ff888c  ff4b8e  7875d6  00c268  239041  2a8cf7  9b37d0   \n",
       "49  18f538  4d58bc  b1bba0  bcd9e6  a6781d  1a6ac2  cc280c  330ecb  ab6cb7   \n",
       "50  594e51  9ae499  312b29  433b7d  d8a97f  f068de  fcba97  55b6d5  d00e84   \n",
       "51  bbeebd  879e1d  ff6918  546dc0  c179fd  de505f  2a2159  1c9a9c  96e36b   \n",
       "52  961b6d  d3ede3  cb8ecb  aacbd6  8de040  cd78eb  2ed588  9130cc  eb4c49   \n",
       "\n",
       "        part10  Length  \n",
       "43  25a140d0cc       1  \n",
       "44  1b0fddc326       1  \n",
       "45  d17392f6f4       1  \n",
       "46  17921a4881       1  \n",
       "47  5df64b8015       1  \n",
       "48  b11148b0fa       1  \n",
       "49  931b721552       1  \n",
       "50  c524d67b06       1  \n",
       "51  054ec5af83       1  \n",
       "52  268ea4d506       2  "
      ]
     },
     "execution_count": 6,
     "metadata": {},
     "output_type": "execute_result"
    }
   ],
   "source": [
    "sha256_df.tail(10)"
   ]
  },
  {
   "cell_type": "markdown",
   "metadata": {},
   "source": [
    "## RSA Data"
   ]
  },
  {
   "cell_type": "code",
   "execution_count": 7,
   "metadata": {},
   "outputs": [],
   "source": [
    "split_rsa_cols = encrypted_data_df['RSA'].apply(split_col)\n",
    "rsa_df = pd.DataFrame(split_rsa_cols.tolist(), index=encrypted_data_df.index, columns = split_column_names)\n",
    "\n",
    "rsa_df['Length'] = encrypted_data_df[\"PlainText\"].apply(len)"
   ]
  },
  {
   "cell_type": "code",
   "execution_count": 8,
   "metadata": {},
   "outputs": [
    {
     "data": {
      "text/html": [
       "<div>\n",
       "<style scoped>\n",
       "    .dataframe tbody tr th:only-of-type {\n",
       "        vertical-align: middle;\n",
       "    }\n",
       "\n",
       "    .dataframe tbody tr th {\n",
       "        vertical-align: top;\n",
       "    }\n",
       "\n",
       "    .dataframe thead th {\n",
       "        text-align: right;\n",
       "    }\n",
       "</style>\n",
       "<table border=\"1\" class=\"dataframe\">\n",
       "  <thead>\n",
       "    <tr style=\"text-align: right;\">\n",
       "      <th></th>\n",
       "      <th>part1</th>\n",
       "      <th>part2</th>\n",
       "      <th>part3</th>\n",
       "      <th>part4</th>\n",
       "      <th>part5</th>\n",
       "      <th>part6</th>\n",
       "      <th>part7</th>\n",
       "      <th>part8</th>\n",
       "      <th>part9</th>\n",
       "      <th>part10</th>\n",
       "      <th>Length</th>\n",
       "    </tr>\n",
       "  </thead>\n",
       "  <tbody>\n",
       "    <tr>\n",
       "      <th>43</th>\n",
       "      <td>04b9738cf9507f43b325fb67df1b6459bd8573a1a85b4a...</td>\n",
       "      <td>5043cbfa620fb1cc3f52f3cec85670706c4380a004cdfa...</td>\n",
       "      <td>bd36fbbe2c13fe9ec13c85f6ef4d6310deee7e75a00f14...</td>\n",
       "      <td>f4885e54cc6079cf6e9746b49b37809a7d96dd41a500ca...</td>\n",
       "      <td>f27735828380e74e745f30b8e07e6b875391579e066456...</td>\n",
       "      <td>58d0778e6fb2109df4a1da4ec240b707940c1441f89d96...</td>\n",
       "      <td>9693a2fc61d569c8eb63387183ce7ccd83c4e8070ed0f9...</td>\n",
       "      <td>406c10af703b12db04ce624a5a6f61bc7169ee9a3d8761...</td>\n",
       "      <td>567d88b947f3b51f7a6768d900d8c611c8f42f493a865a...</td>\n",
       "      <td>654e4a7c1d718961c6a62ea08cfe21125c4bd325bab77d...</td>\n",
       "      <td>1</td>\n",
       "    </tr>\n",
       "    <tr>\n",
       "      <th>44</th>\n",
       "      <td>4a3bee66214d528931da8f669ca293a2f7d81a94afcf60...</td>\n",
       "      <td>4739cac3448dcf9433d239a8c1817bd20d8f3e8c45b9fa...</td>\n",
       "      <td>9b5bce042c51b4c837648ab0ad551b65865269a2862016...</td>\n",
       "      <td>61d7ad77a2ba593bf4394119821fa095e37552275fde4b...</td>\n",
       "      <td>a5b60f1aa649d1bb4555a2c8621784542ba0d205c63b65...</td>\n",
       "      <td>e168917e38e40c972fe5406ac99724e123a6e48d77e4de...</td>\n",
       "      <td>438253eea6f44e6e08caedfba9dd67e4537741e2cd95eb...</td>\n",
       "      <td>44e45515661f98e8a3c2bc95986462f16d5d64fb3b8644...</td>\n",
       "      <td>5d37482deec1dc97a1821ac0bc42d5eefa93a5cd9fcca3...</td>\n",
       "      <td>fd055b220c38528c395d96f0f893082473d52f583f55ee...</td>\n",
       "      <td>1</td>\n",
       "    </tr>\n",
       "    <tr>\n",
       "      <th>45</th>\n",
       "      <td>b4a28df766c4becfbdb1dcdf41ac635b3a0d9818bb485a...</td>\n",
       "      <td>8f4267f8f35c86ea763d845a79921cfea17675a7b49f14...</td>\n",
       "      <td>74c0ae56bd67841c6e209481ba955166cf66cc1d8ad5f0...</td>\n",
       "      <td>f0b2299b80bf0d7a875e494a74e7bd1325bc58523fa2c5...</td>\n",
       "      <td>b6145e500ee6b1142b4e684ed6759b43375e50265b71e0...</td>\n",
       "      <td>6680c693e813fc10cf601c36c9441a6278628c352db671...</td>\n",
       "      <td>1bffa082541816d5948c5d949bebf270496cc21bcefe64...</td>\n",
       "      <td>e3d65816b637966891cb55e24620237d85c3ced5e107c5...</td>\n",
       "      <td>da2f7c04490374960a3b53c7d9c59e7629a2460377eafc...</td>\n",
       "      <td>d348f65b31965dcc1492ddd9fba62920fdbe6907923fa4...</td>\n",
       "      <td>1</td>\n",
       "    </tr>\n",
       "    <tr>\n",
       "      <th>46</th>\n",
       "      <td>0683958081a0fc7e70326bca231833a4b01013323618fc...</td>\n",
       "      <td>eb45765627211b186dda466be418e0a95e1121727f0577...</td>\n",
       "      <td>5cf30996536ce9f4886b12a2647d7921ea9a398d9e537c...</td>\n",
       "      <td>400f09afcf7f8ea40b68ee318e4bd957d83f26d4a7d0de...</td>\n",
       "      <td>4ab6b46012fa7af5743bec4b1d78db3d0bf2077a518dc0...</td>\n",
       "      <td>2c9f050929ca568dcc973033bac67c900e5107e140bae3...</td>\n",
       "      <td>d28199f42dc57b5d19fbaad1dfffcbf6ca21272a74933d...</td>\n",
       "      <td>101fc180e88db527b582bea19ba246e1eff5c480c40503...</td>\n",
       "      <td>f5f230f3d25f5606ba4617a606cbe15025d34e4822a49d...</td>\n",
       "      <td>af1c2c7eff314433457c871e44831b292642e5d521ed64...</td>\n",
       "      <td>1</td>\n",
       "    </tr>\n",
       "    <tr>\n",
       "      <th>47</th>\n",
       "      <td>b651b62dc7357a5d612fb6e899f75c2dfc0c0f3e3b934e...</td>\n",
       "      <td>524c1f0990111b0655462bd3fca39cfa7f1dfae6db2ffc...</td>\n",
       "      <td>acbec46bca028cf6cdb03fc2f45d492b8fe2191f98c09e...</td>\n",
       "      <td>59054e6f3b6361c1201c9ced27cd7c3ba78bb1e98227bf...</td>\n",
       "      <td>c1b9bad86076ff886a73ae3b52ca1191a328fa6e36e867...</td>\n",
       "      <td>ee579f091f5db76e82f02e64fd7433f523dc5e2309ff59...</td>\n",
       "      <td>d9a3ca9976070bc30c0ef7a9d755d8e7f922fb9ae350d6...</td>\n",
       "      <td>7ed1ce64f157ee574c36f2674c5a545f761d98378d032a...</td>\n",
       "      <td>07067d459719ef86c0e9a65e2c81c04fb8f4a76807b512...</td>\n",
       "      <td>7ec951b8008d4700e53b22c45be46f7f196dd4c0fa66c0...</td>\n",
       "      <td>1</td>\n",
       "    </tr>\n",
       "    <tr>\n",
       "      <th>48</th>\n",
       "      <td>5f71da09331d1075df7365acdf9422f8de39b5c927921d...</td>\n",
       "      <td>8f26b1518624a162410915f3f84d004172b5fa5a649717...</td>\n",
       "      <td>173372c1047ddb7fbb878f4d1197635860fb52366fc942...</td>\n",
       "      <td>b74caad230fe95f922299377d80cedcf1932c6f90f6c0c...</td>\n",
       "      <td>9d5dacd8617b3014f43f46a5c77b666e6abc1a2dc82a90...</td>\n",
       "      <td>5514be7cd18081f8b5e29825d47aefd91f2947594a1480...</td>\n",
       "      <td>339d3d4d4dd5efbe3504f81a06da3acafee72fd8d2d12c...</td>\n",
       "      <td>e9a71c6cf2bf7c37a36509027df37c7dfe23ad585d7fca...</td>\n",
       "      <td>e3b6944b4aba5cf8e93ad429881ef62ff5d6698d4ba230...</td>\n",
       "      <td>0c6123cfb581418297e52c8ae200a3da0b6d0eaa7e7b7f...</td>\n",
       "      <td>1</td>\n",
       "    </tr>\n",
       "    <tr>\n",
       "      <th>49</th>\n",
       "      <td>b6798fdc305ae8a3b1896b1d87f8b7d649af55f21c3864...</td>\n",
       "      <td>c1e81c1523e08cc4f642263ab4c628b267e655f31e1031...</td>\n",
       "      <td>dbdef9ca11856079d9c76e0c2c5ee75c363c54ff32cffe...</td>\n",
       "      <td>074c4e42cd8482e0a4700648e1b86ef73139c716c86dd4...</td>\n",
       "      <td>97942673146ff58ff3d27048ee7f3a599f03995a3b8676...</td>\n",
       "      <td>99f2a796995d461864ca9b8504375dded739a4c5012bae...</td>\n",
       "      <td>4c8424797d2bdaab889b1788cea473ec4ee3012d2d8855...</td>\n",
       "      <td>7111f111f186e413af430f1b6bbd037b1dca8077e6f898...</td>\n",
       "      <td>f9cdc03cfcaead3a895f8851fcb6cb1eca019d2b705834...</td>\n",
       "      <td>b23ca2b58187b53abc07ba339b6432e89af3ed05033256...</td>\n",
       "      <td>1</td>\n",
       "    </tr>\n",
       "    <tr>\n",
       "      <th>50</th>\n",
       "      <td>a2a832cb44ebaed64c87e1b5af5262bf15ea962643b0a9...</td>\n",
       "      <td>1e711d21d687d0eebaa2ff254e5613f2e084596dc441eb...</td>\n",
       "      <td>b80f23954d893b84a0e713cd192655384e97541198e7c2...</td>\n",
       "      <td>2c2392268347dda00ab30dc0d738c6171032aacb8bc42e...</td>\n",
       "      <td>5a8bbef1e2b097cd108aae6e36d9c1d8ba15dd1eaf9ef7...</td>\n",
       "      <td>f75fe07feb8a0277bc6bc6300a0fbe0c785fcaab754040...</td>\n",
       "      <td>ff1bfa81f6df472c4fde4af4dce93724f46e9af29d222f...</td>\n",
       "      <td>bcd01c129980b3fc58ec91b7b603f6ac72014e135f7932...</td>\n",
       "      <td>8e918aa0ced19e369cb1aae13d9af656fef2a438de3156...</td>\n",
       "      <td>64825aaf1f603650727b1da506952ff4c5e8a0557d9dee...</td>\n",
       "      <td>1</td>\n",
       "    </tr>\n",
       "    <tr>\n",
       "      <th>51</th>\n",
       "      <td>808932cc8c439130eef1cb37f73517d12bfbf0a9d38216...</td>\n",
       "      <td>5e8181697132afac0ba311c37f5e5aae03ff5335d61a06...</td>\n",
       "      <td>b2b7c7a455db06f8949e319245a9be50d82a8ca8c61185...</td>\n",
       "      <td>e65b641edf87e9336d0386f958a3de73438e3673489730...</td>\n",
       "      <td>5c50c83ecb15fe3f80066d696873db9d50b477dfcdb48c...</td>\n",
       "      <td>df96d7d4b22af6225cc28c62d303bbf0d7fccc5155c9c6...</td>\n",
       "      <td>2c3036f5a08bac3508c6c318115a7f2676fb4695ace191...</td>\n",
       "      <td>f37a74d4ce85af259f155d57771f29ada0af99cfb1e842...</td>\n",
       "      <td>d0d268d4ac29b87fe44a59ee036628101cd38263f4f885...</td>\n",
       "      <td>d19f1d1990d0469b2c5a4dc11f25edb1717d62bfa4f439...</td>\n",
       "      <td>1</td>\n",
       "    </tr>\n",
       "    <tr>\n",
       "      <th>52</th>\n",
       "      <td>8ee6af3b1ed8994aaed646ab85e217db2fea2af478ad48...</td>\n",
       "      <td>ffa485b16fec63d6df3ed7465ad4d597fe15f328a57e41...</td>\n",
       "      <td>4577649bcc8fec038c5fa23d98e8cb23d5790c094ec704...</td>\n",
       "      <td>5a09dbc374d0b7c340c910c58f09fc1708c1f5df25363d...</td>\n",
       "      <td>ed2a99dd69d673307c9443f9f40852cb318f0c9ccda160...</td>\n",
       "      <td>680cf5a74c97c95a503d0bce95b71e6267d329142a5eae...</td>\n",
       "      <td>3023b9292e557f280ca9e41872c2323222ddf09d2ba34d...</td>\n",
       "      <td>fedde40f12d18431a57b1b4b50a16cd621def96253209b...</td>\n",
       "      <td>831d9788dd74698eeef9a0692d44e10a15204e2b75b87a...</td>\n",
       "      <td>781d33bf0f9c9b4dbaa1bba192ed6bf183e9c725a522e1...</td>\n",
       "      <td>2</td>\n",
       "    </tr>\n",
       "  </tbody>\n",
       "</table>\n",
       "</div>"
      ],
      "text/plain": [
       "                                                part1  \\\n",
       "43  04b9738cf9507f43b325fb67df1b6459bd8573a1a85b4a...   \n",
       "44  4a3bee66214d528931da8f669ca293a2f7d81a94afcf60...   \n",
       "45  b4a28df766c4becfbdb1dcdf41ac635b3a0d9818bb485a...   \n",
       "46  0683958081a0fc7e70326bca231833a4b01013323618fc...   \n",
       "47  b651b62dc7357a5d612fb6e899f75c2dfc0c0f3e3b934e...   \n",
       "48  5f71da09331d1075df7365acdf9422f8de39b5c927921d...   \n",
       "49  b6798fdc305ae8a3b1896b1d87f8b7d649af55f21c3864...   \n",
       "50  a2a832cb44ebaed64c87e1b5af5262bf15ea962643b0a9...   \n",
       "51  808932cc8c439130eef1cb37f73517d12bfbf0a9d38216...   \n",
       "52  8ee6af3b1ed8994aaed646ab85e217db2fea2af478ad48...   \n",
       "\n",
       "                                                part2  \\\n",
       "43  5043cbfa620fb1cc3f52f3cec85670706c4380a004cdfa...   \n",
       "44  4739cac3448dcf9433d239a8c1817bd20d8f3e8c45b9fa...   \n",
       "45  8f4267f8f35c86ea763d845a79921cfea17675a7b49f14...   \n",
       "46  eb45765627211b186dda466be418e0a95e1121727f0577...   \n",
       "47  524c1f0990111b0655462bd3fca39cfa7f1dfae6db2ffc...   \n",
       "48  8f26b1518624a162410915f3f84d004172b5fa5a649717...   \n",
       "49  c1e81c1523e08cc4f642263ab4c628b267e655f31e1031...   \n",
       "50  1e711d21d687d0eebaa2ff254e5613f2e084596dc441eb...   \n",
       "51  5e8181697132afac0ba311c37f5e5aae03ff5335d61a06...   \n",
       "52  ffa485b16fec63d6df3ed7465ad4d597fe15f328a57e41...   \n",
       "\n",
       "                                                part3  \\\n",
       "43  bd36fbbe2c13fe9ec13c85f6ef4d6310deee7e75a00f14...   \n",
       "44  9b5bce042c51b4c837648ab0ad551b65865269a2862016...   \n",
       "45  74c0ae56bd67841c6e209481ba955166cf66cc1d8ad5f0...   \n",
       "46  5cf30996536ce9f4886b12a2647d7921ea9a398d9e537c...   \n",
       "47  acbec46bca028cf6cdb03fc2f45d492b8fe2191f98c09e...   \n",
       "48  173372c1047ddb7fbb878f4d1197635860fb52366fc942...   \n",
       "49  dbdef9ca11856079d9c76e0c2c5ee75c363c54ff32cffe...   \n",
       "50  b80f23954d893b84a0e713cd192655384e97541198e7c2...   \n",
       "51  b2b7c7a455db06f8949e319245a9be50d82a8ca8c61185...   \n",
       "52  4577649bcc8fec038c5fa23d98e8cb23d5790c094ec704...   \n",
       "\n",
       "                                                part4  \\\n",
       "43  f4885e54cc6079cf6e9746b49b37809a7d96dd41a500ca...   \n",
       "44  61d7ad77a2ba593bf4394119821fa095e37552275fde4b...   \n",
       "45  f0b2299b80bf0d7a875e494a74e7bd1325bc58523fa2c5...   \n",
       "46  400f09afcf7f8ea40b68ee318e4bd957d83f26d4a7d0de...   \n",
       "47  59054e6f3b6361c1201c9ced27cd7c3ba78bb1e98227bf...   \n",
       "48  b74caad230fe95f922299377d80cedcf1932c6f90f6c0c...   \n",
       "49  074c4e42cd8482e0a4700648e1b86ef73139c716c86dd4...   \n",
       "50  2c2392268347dda00ab30dc0d738c6171032aacb8bc42e...   \n",
       "51  e65b641edf87e9336d0386f958a3de73438e3673489730...   \n",
       "52  5a09dbc374d0b7c340c910c58f09fc1708c1f5df25363d...   \n",
       "\n",
       "                                                part5  \\\n",
       "43  f27735828380e74e745f30b8e07e6b875391579e066456...   \n",
       "44  a5b60f1aa649d1bb4555a2c8621784542ba0d205c63b65...   \n",
       "45  b6145e500ee6b1142b4e684ed6759b43375e50265b71e0...   \n",
       "46  4ab6b46012fa7af5743bec4b1d78db3d0bf2077a518dc0...   \n",
       "47  c1b9bad86076ff886a73ae3b52ca1191a328fa6e36e867...   \n",
       "48  9d5dacd8617b3014f43f46a5c77b666e6abc1a2dc82a90...   \n",
       "49  97942673146ff58ff3d27048ee7f3a599f03995a3b8676...   \n",
       "50  5a8bbef1e2b097cd108aae6e36d9c1d8ba15dd1eaf9ef7...   \n",
       "51  5c50c83ecb15fe3f80066d696873db9d50b477dfcdb48c...   \n",
       "52  ed2a99dd69d673307c9443f9f40852cb318f0c9ccda160...   \n",
       "\n",
       "                                                part6  \\\n",
       "43  58d0778e6fb2109df4a1da4ec240b707940c1441f89d96...   \n",
       "44  e168917e38e40c972fe5406ac99724e123a6e48d77e4de...   \n",
       "45  6680c693e813fc10cf601c36c9441a6278628c352db671...   \n",
       "46  2c9f050929ca568dcc973033bac67c900e5107e140bae3...   \n",
       "47  ee579f091f5db76e82f02e64fd7433f523dc5e2309ff59...   \n",
       "48  5514be7cd18081f8b5e29825d47aefd91f2947594a1480...   \n",
       "49  99f2a796995d461864ca9b8504375dded739a4c5012bae...   \n",
       "50  f75fe07feb8a0277bc6bc6300a0fbe0c785fcaab754040...   \n",
       "51  df96d7d4b22af6225cc28c62d303bbf0d7fccc5155c9c6...   \n",
       "52  680cf5a74c97c95a503d0bce95b71e6267d329142a5eae...   \n",
       "\n",
       "                                                part7  \\\n",
       "43  9693a2fc61d569c8eb63387183ce7ccd83c4e8070ed0f9...   \n",
       "44  438253eea6f44e6e08caedfba9dd67e4537741e2cd95eb...   \n",
       "45  1bffa082541816d5948c5d949bebf270496cc21bcefe64...   \n",
       "46  d28199f42dc57b5d19fbaad1dfffcbf6ca21272a74933d...   \n",
       "47  d9a3ca9976070bc30c0ef7a9d755d8e7f922fb9ae350d6...   \n",
       "48  339d3d4d4dd5efbe3504f81a06da3acafee72fd8d2d12c...   \n",
       "49  4c8424797d2bdaab889b1788cea473ec4ee3012d2d8855...   \n",
       "50  ff1bfa81f6df472c4fde4af4dce93724f46e9af29d222f...   \n",
       "51  2c3036f5a08bac3508c6c318115a7f2676fb4695ace191...   \n",
       "52  3023b9292e557f280ca9e41872c2323222ddf09d2ba34d...   \n",
       "\n",
       "                                                part8  \\\n",
       "43  406c10af703b12db04ce624a5a6f61bc7169ee9a3d8761...   \n",
       "44  44e45515661f98e8a3c2bc95986462f16d5d64fb3b8644...   \n",
       "45  e3d65816b637966891cb55e24620237d85c3ced5e107c5...   \n",
       "46  101fc180e88db527b582bea19ba246e1eff5c480c40503...   \n",
       "47  7ed1ce64f157ee574c36f2674c5a545f761d98378d032a...   \n",
       "48  e9a71c6cf2bf7c37a36509027df37c7dfe23ad585d7fca...   \n",
       "49  7111f111f186e413af430f1b6bbd037b1dca8077e6f898...   \n",
       "50  bcd01c129980b3fc58ec91b7b603f6ac72014e135f7932...   \n",
       "51  f37a74d4ce85af259f155d57771f29ada0af99cfb1e842...   \n",
       "52  fedde40f12d18431a57b1b4b50a16cd621def96253209b...   \n",
       "\n",
       "                                                part9  \\\n",
       "43  567d88b947f3b51f7a6768d900d8c611c8f42f493a865a...   \n",
       "44  5d37482deec1dc97a1821ac0bc42d5eefa93a5cd9fcca3...   \n",
       "45  da2f7c04490374960a3b53c7d9c59e7629a2460377eafc...   \n",
       "46  f5f230f3d25f5606ba4617a606cbe15025d34e4822a49d...   \n",
       "47  07067d459719ef86c0e9a65e2c81c04fb8f4a76807b512...   \n",
       "48  e3b6944b4aba5cf8e93ad429881ef62ff5d6698d4ba230...   \n",
       "49  f9cdc03cfcaead3a895f8851fcb6cb1eca019d2b705834...   \n",
       "50  8e918aa0ced19e369cb1aae13d9af656fef2a438de3156...   \n",
       "51  d0d268d4ac29b87fe44a59ee036628101cd38263f4f885...   \n",
       "52  831d9788dd74698eeef9a0692d44e10a15204e2b75b87a...   \n",
       "\n",
       "                                               part10  Length  \n",
       "43  654e4a7c1d718961c6a62ea08cfe21125c4bd325bab77d...       1  \n",
       "44  fd055b220c38528c395d96f0f893082473d52f583f55ee...       1  \n",
       "45  d348f65b31965dcc1492ddd9fba62920fdbe6907923fa4...       1  \n",
       "46  af1c2c7eff314433457c871e44831b292642e5d521ed64...       1  \n",
       "47  7ec951b8008d4700e53b22c45be46f7f196dd4c0fa66c0...       1  \n",
       "48  0c6123cfb581418297e52c8ae200a3da0b6d0eaa7e7b7f...       1  \n",
       "49  b23ca2b58187b53abc07ba339b6432e89af3ed05033256...       1  \n",
       "50  64825aaf1f603650727b1da506952ff4c5e8a0557d9dee...       1  \n",
       "51  d19f1d1990d0469b2c5a4dc11f25edb1717d62bfa4f439...       1  \n",
       "52  781d33bf0f9c9b4dbaa1bba192ed6bf183e9c725a522e1...       2  "
      ]
     },
     "execution_count": 8,
     "metadata": {},
     "output_type": "execute_result"
    }
   ],
   "source": [
    "rsa_df.tail(10)"
   ]
  },
  {
   "cell_type": "markdown",
   "metadata": {},
   "source": [
    "## Check Data Split"
   ]
  },
  {
   "cell_type": "code",
   "execution_count": 50,
   "metadata": {},
   "outputs": [],
   "source": [
    "def check_data(df, num_split, encrypt_type):\n",
    "    combined_text = \"\"\n",
    "    for i in range(1,num_split+1):\n",
    "        col_name = 'part'+ str(i)\n",
    "        combined_text +=  df[col_name]\n",
    "\n",
    "    result = (combined_text == encrypted_data_df[encrypt_type])\n",
    "\n",
    "    return(result[result == False])\n"
   ]
  },
  {
   "cell_type": "code",
   "execution_count": 53,
   "metadata": {},
   "outputs": [
    {
     "name": "stdout",
     "output_type": "stream",
     "text": [
      "The following rows were not properly split: \n",
      "Series([], dtype: bool)\n"
     ]
    }
   ],
   "source": [
    "print(f'The following rows were not properly split for RSA: \\n{check_data(rsa_df, 10, \"RSA\")}')"
   ]
  },
  {
   "cell_type": "code",
   "execution_count": 54,
   "metadata": {},
   "outputs": [
    {
     "name": "stdout",
     "output_type": "stream",
     "text": [
      "The following rows were not properly split for SHA256: \n",
      "Series([], dtype: bool)\n"
     ]
    }
   ],
   "source": [
    "print(f'The following rows were not properly split for SHA256: \\n{check_data(sha256_df, 10, \"SHA256\")}')"
   ]
  },
  {
   "cell_type": "markdown",
   "metadata": {},
   "source": [
    "## Combine Datasets"
   ]
  },
  {
   "cell_type": "code",
   "execution_count": 29,
   "metadata": {},
   "outputs": [],
   "source": [
    "def hex_to_float(hex_string):\n",
    "    hex_value = int(hex_string, 16)\n",
    "    return np.float64(hex_value)"
   ]
  },
  {
   "cell_type": "code",
   "execution_count": 30,
   "metadata": {},
   "outputs": [],
   "source": [
    "sha256_data = sha256_df.loc[:, split_column_names].map(hex_to_float).to_numpy()\n",
    "sha256_labels = sha256_df['Length'].values.reshape(-1, 1)"
   ]
  },
  {
   "cell_type": "code",
   "execution_count": 31,
   "metadata": {},
   "outputs": [],
   "source": [
    "rsa_data = rsa_df.loc[:, split_column_names].map(hex_to_float).to_numpy()\n",
    "rsa_labels = rsa_df['Length'].values.reshape(-1, 1)"
   ]
  },
  {
   "cell_type": "code",
   "execution_count": 104,
   "metadata": {},
   "outputs": [],
   "source": [
    "# Stack the data and label np arrays for sha256 and rsa\n",
    "# dataset = np.vstack((sha256_data, rsa_data))\n",
    "# labels = np.vstack((sha256_labels, rsa_labels))\n",
    "\n",
    "dataset = sha256_data\n",
    "labels = sha256_labels"
   ]
  },
  {
   "cell_type": "code",
   "execution_count": 105,
   "metadata": {},
   "outputs": [
    {
     "name": "stdout",
     "output_type": "stream",
     "text": [
      "(53, 10)\n",
      "(53, 1)\n"
     ]
    }
   ],
   "source": [
    "print(dataset.shape)\n",
    "print(labels.shape)"
   ]
  },
  {
   "cell_type": "markdown",
   "metadata": {},
   "source": [
    "## Split Data into Training and Testing"
   ]
  },
  {
   "cell_type": "code",
   "execution_count": 122,
   "metadata": {},
   "outputs": [],
   "source": [
    "X_train, X_test, Y_train, Y_test = train_test_split(dataset, labels, test_size=0.10, shuffle=True, random_state=42)"
   ]
  },
  {
   "cell_type": "code",
   "execution_count": 123,
   "metadata": {},
   "outputs": [],
   "source": [
    "X_train = tf.convert_to_tensor(X_train)\n",
    "X_test = tf.convert_to_tensor(X_test)\n",
    "Y_train = tf.convert_to_tensor(Y_train)\n",
    "Y_test = tf.convert_to_tensor(Y_test)"
   ]
  },
  {
   "cell_type": "code",
   "execution_count": 124,
   "metadata": {},
   "outputs": [
    {
     "data": {
      "text/plain": [
       "TensorShape([47, 10])"
      ]
     },
     "execution_count": 124,
     "metadata": {},
     "output_type": "execute_result"
    }
   ],
   "source": [
    "X_train.shape"
   ]
  },
  {
   "cell_type": "markdown",
   "metadata": {},
   "source": [
    "# Model"
   ]
  },
  {
   "cell_type": "code",
   "execution_count": 125,
   "metadata": {},
   "outputs": [],
   "source": [
    "from tensorflow.keras.models import Sequential\n",
    "from tensorflow.keras.layers import Dense\n",
    "\n",
    "model = Sequential([\n",
    "    Dense(64, activation='relu', input_shape=(10,)),\n",
    "    Dense(64, activation='relu'),\n",
    "    Dense(1)\n",
    "])"
   ]
  },
  {
   "cell_type": "code",
   "execution_count": 126,
   "metadata": {},
   "outputs": [
    {
     "name": "stdout",
     "output_type": "stream",
     "text": [
      "Model: \"sequential\"\n",
      "_________________________________________________________________\n",
      " Layer (type)                Output Shape              Param #   \n",
      "=================================================================\n",
      " dense (Dense)               (None, 64)                704       \n",
      "                                                                 \n",
      " dense_1 (Dense)             (None, 64)                4160      \n",
      "                                                                 \n",
      " dense_2 (Dense)             (None, 1)                 65        \n",
      "                                                                 \n",
      "=================================================================\n",
      "Total params: 4,929\n",
      "Trainable params: 4,929\n",
      "Non-trainable params: 0\n",
      "_________________________________________________________________\n"
     ]
    }
   ],
   "source": [
    "model.compile(optimizer='adam',\n",
    "              loss='mean_squared_error',\n",
    "              metrics=['mae']) \n",
    "\n",
    "model.summary()"
   ]
  },
  {
   "cell_type": "code",
   "execution_count": 127,
   "metadata": {},
   "outputs": [
    {
     "name": "stdout",
     "output_type": "stream",
     "text": [
      "Epoch 1/50\n",
      "2/2 [==============================] - 0s 117ms/step - loss: 1965831933396336508928.0000 - mae: 39216521216.0000 - val_loss: nan - val_mae: nan\n",
      "Epoch 2/50\n",
      "2/2 [==============================] - 0s 26ms/step - loss: nan - mae: nan - val_loss: nan - val_mae: nan\n",
      "Epoch 3/50\n",
      "2/2 [==============================] - 0s 27ms/step - loss: nan - mae: nan - val_loss: nan - val_mae: nan\n",
      "Epoch 4/50\n",
      "2/2 [==============================] - 0s 26ms/step - loss: nan - mae: nan - val_loss: nan - val_mae: nan\n",
      "Epoch 5/50\n",
      "2/2 [==============================] - 0s 26ms/step - loss: nan - mae: nan - val_loss: nan - val_mae: nan\n",
      "Epoch 6/50\n",
      "2/2 [==============================] - 0s 28ms/step - loss: nan - mae: nan - val_loss: nan - val_mae: nan\n",
      "Epoch 7/50\n",
      "2/2 [==============================] - 0s 29ms/step - loss: nan - mae: nan - val_loss: nan - val_mae: nan\n",
      "Epoch 8/50\n",
      "2/2 [==============================] - 0s 32ms/step - loss: nan - mae: nan - val_loss: nan - val_mae: nan\n",
      "Epoch 9/50\n",
      "2/2 [==============================] - 0s 25ms/step - loss: nan - mae: nan - val_loss: nan - val_mae: nan\n",
      "Epoch 10/50\n",
      "2/2 [==============================] - 0s 28ms/step - loss: nan - mae: nan - val_loss: nan - val_mae: nan\n",
      "Epoch 11/50\n",
      "2/2 [==============================] - 0s 25ms/step - loss: nan - mae: nan - val_loss: nan - val_mae: nan\n",
      "Epoch 12/50\n",
      "2/2 [==============================] - 0s 26ms/step - loss: nan - mae: nan - val_loss: nan - val_mae: nan\n",
      "Epoch 13/50\n",
      "2/2 [==============================] - 0s 26ms/step - loss: nan - mae: nan - val_loss: nan - val_mae: nan\n",
      "Epoch 14/50\n",
      "2/2 [==============================] - 0s 25ms/step - loss: nan - mae: nan - val_loss: nan - val_mae: nan\n",
      "Epoch 15/50\n",
      "2/2 [==============================] - 0s 25ms/step - loss: nan - mae: nan - val_loss: nan - val_mae: nan\n",
      "Epoch 16/50\n",
      "2/2 [==============================] - 0s 29ms/step - loss: nan - mae: nan - val_loss: nan - val_mae: nan\n",
      "Epoch 17/50\n",
      "2/2 [==============================] - 0s 30ms/step - loss: nan - mae: nan - val_loss: nan - val_mae: nan\n",
      "Epoch 18/50\n",
      "2/2 [==============================] - 0s 27ms/step - loss: nan - mae: nan - val_loss: nan - val_mae: nan\n",
      "Epoch 19/50\n",
      "2/2 [==============================] - 0s 25ms/step - loss: nan - mae: nan - val_loss: nan - val_mae: nan\n",
      "Epoch 20/50\n",
      "2/2 [==============================] - 0s 24ms/step - loss: nan - mae: nan - val_loss: nan - val_mae: nan\n",
      "Epoch 21/50\n",
      "2/2 [==============================] - 0s 25ms/step - loss: nan - mae: nan - val_loss: nan - val_mae: nan\n",
      "Epoch 22/50\n",
      "2/2 [==============================] - 0s 26ms/step - loss: nan - mae: nan - val_loss: nan - val_mae: nan\n",
      "Epoch 23/50\n",
      "2/2 [==============================] - 0s 27ms/step - loss: nan - mae: nan - val_loss: nan - val_mae: nan\n",
      "Epoch 24/50\n",
      "2/2 [==============================] - 0s 25ms/step - loss: nan - mae: nan - val_loss: nan - val_mae: nan\n",
      "Epoch 25/50\n",
      "2/2 [==============================] - 0s 25ms/step - loss: nan - mae: nan - val_loss: nan - val_mae: nan\n",
      "Epoch 26/50\n",
      "2/2 [==============================] - 0s 23ms/step - loss: nan - mae: nan - val_loss: nan - val_mae: nan\n",
      "Epoch 27/50\n",
      "2/2 [==============================] - 0s 24ms/step - loss: nan - mae: nan - val_loss: nan - val_mae: nan\n",
      "Epoch 28/50\n",
      "2/2 [==============================] - 0s 25ms/step - loss: nan - mae: nan - val_loss: nan - val_mae: nan\n",
      "Epoch 29/50\n",
      "2/2 [==============================] - 0s 23ms/step - loss: nan - mae: nan - val_loss: nan - val_mae: nan\n",
      "Epoch 30/50\n",
      "2/2 [==============================] - 0s 24ms/step - loss: nan - mae: nan - val_loss: nan - val_mae: nan\n",
      "Epoch 31/50\n",
      "2/2 [==============================] - 0s 23ms/step - loss: nan - mae: nan - val_loss: nan - val_mae: nan\n",
      "Epoch 32/50\n",
      "2/2 [==============================] - 0s 25ms/step - loss: nan - mae: nan - val_loss: nan - val_mae: nan\n",
      "Epoch 33/50\n",
      "2/2 [==============================] - 0s 23ms/step - loss: nan - mae: nan - val_loss: nan - val_mae: nan\n",
      "Epoch 34/50\n",
      "2/2 [==============================] - 0s 23ms/step - loss: nan - mae: nan - val_loss: nan - val_mae: nan\n",
      "Epoch 35/50\n",
      "2/2 [==============================] - 0s 23ms/step - loss: nan - mae: nan - val_loss: nan - val_mae: nan\n",
      "Epoch 36/50\n",
      "2/2 [==============================] - 0s 23ms/step - loss: nan - mae: nan - val_loss: nan - val_mae: nan\n",
      "Epoch 37/50\n",
      "2/2 [==============================] - 0s 23ms/step - loss: nan - mae: nan - val_loss: nan - val_mae: nan\n",
      "Epoch 38/50\n",
      "2/2 [==============================] - 0s 24ms/step - loss: nan - mae: nan - val_loss: nan - val_mae: nan\n",
      "Epoch 39/50\n",
      "2/2 [==============================] - 0s 24ms/step - loss: nan - mae: nan - val_loss: nan - val_mae: nan\n",
      "Epoch 40/50\n",
      "2/2 [==============================] - 0s 24ms/step - loss: nan - mae: nan - val_loss: nan - val_mae: nan\n",
      "Epoch 41/50\n",
      "2/2 [==============================] - 0s 24ms/step - loss: nan - mae: nan - val_loss: nan - val_mae: nan\n",
      "Epoch 42/50\n",
      "2/2 [==============================] - 0s 28ms/step - loss: nan - mae: nan - val_loss: nan - val_mae: nan\n",
      "Epoch 43/50\n",
      "2/2 [==============================] - 0s 25ms/step - loss: nan - mae: nan - val_loss: nan - val_mae: nan\n",
      "Epoch 44/50\n",
      "2/2 [==============================] - 0s 25ms/step - loss: nan - mae: nan - val_loss: nan - val_mae: nan\n",
      "Epoch 45/50\n",
      "2/2 [==============================] - 0s 24ms/step - loss: nan - mae: nan - val_loss: nan - val_mae: nan\n",
      "Epoch 46/50\n",
      "2/2 [==============================] - 0s 24ms/step - loss: nan - mae: nan - val_loss: nan - val_mae: nan\n",
      "Epoch 47/50\n",
      "2/2 [==============================] - 0s 25ms/step - loss: nan - mae: nan - val_loss: nan - val_mae: nan\n",
      "Epoch 48/50\n",
      "2/2 [==============================] - 0s 25ms/step - loss: nan - mae: nan - val_loss: nan - val_mae: nan\n",
      "Epoch 49/50\n",
      "2/2 [==============================] - 0s 23ms/step - loss: nan - mae: nan - val_loss: nan - val_mae: nan\n",
      "Epoch 50/50\n",
      "2/2 [==============================] - 0s 22ms/step - loss: nan - mae: nan - val_loss: nan - val_mae: nan\n"
     ]
    },
    {
     "data": {
      "text/plain": [
       "<keras.callbacks.History at 0x2461e512670>"
      ]
     },
     "execution_count": 127,
     "metadata": {},
     "output_type": "execute_result"
    }
   ],
   "source": [
    "model.fit(X_train, Y_train, epochs=50, batch_size=32, validation_split=0.2)"
   ]
  },
  {
   "cell_type": "code",
   "execution_count": 128,
   "metadata": {},
   "outputs": [
    {
     "data": {
      "text/plain": [
       "1524"
      ]
     },
     "execution_count": 128,
     "metadata": {},
     "output_type": "execute_result"
    }
   ],
   "source": [
    "# Clear memory after training\n",
    "tf.keras.backend.clear_session()\n",
    "gc.collect()"
   ]
  },
  {
   "cell_type": "code",
   "execution_count": null,
   "metadata": {},
   "outputs": [],
   "source": []
  }
 ],
 "metadata": {
  "kernelspec": {
   "display_name": ".venv",
   "language": "python",
   "name": "python3"
  },
  "language_info": {
   "codemirror_mode": {
    "name": "ipython",
    "version": 3
   },
   "file_extension": ".py",
   "mimetype": "text/x-python",
   "name": "python",
   "nbconvert_exporter": "python",
   "pygments_lexer": "ipython3",
   "version": "3.9.19"
  }
 },
 "nbformat": 4,
 "nbformat_minor": 2
}
